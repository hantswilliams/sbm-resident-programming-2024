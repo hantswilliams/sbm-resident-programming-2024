{
  "nbformat": 4,
  "nbformat_minor": 0,
  "metadata": {
    "colab": {
      "provenance": []
    },
    "kernelspec": {
      "name": "python3",
      "display_name": "Python 3"
    },
    "language_info": {
      "name": "python"
    }
  },
  "cells": [
    {
      "cell_type": "code",
      "execution_count": null,
      "metadata": {
        "id": "HxkvQQGhPP1Y"
      },
      "outputs": [],
      "source": [
        "## Tutorial: https://python.langchain.com/docs/integrations/llms/huggingface_endpoint/\n",
        "## Inspired by: https://medium.com/@mohammed97ashraf/building-a-retrieval-augmented-generation-rag-model-with-gemma-and-langchain-a-step-by-step-f917fc6f753f\n",
        "\n",
        "!pip install langchain\n",
        "!pip install huggingface_hub\n",
        "!pip install beautifulsoup4\n",
        "!pip install sentence-transformers\n",
        "!pip install chromadb\n",
        "!pip install langchainhub"
      ]
    },
    {
      "cell_type": "code",
      "source": [
        "from langchain_community.llms import HuggingFaceEndpoint\n",
        "from langchain.chains import LLMChain\n",
        "from langchain.prompts import PromptTemplate\n",
        "import os\n",
        "\n",
        "## Can get huggingface token from: https://huggingface.co/settings/tokens\n",
        "os.environ[\"HUGGINGFACEHUB_API_TOKEN\"] = ''\n",
        "\n",
        "## Select a model available on huggingface\n",
        "model_selection = \"mistralai/Mistral-7B-Instruct-v0.2\"\n"
      ],
      "metadata": {
        "id": "j2RF7hN2XGTa"
      },
      "execution_count": null,
      "outputs": []
    },
    {
      "cell_type": "code",
      "source": [
        "#### Create LLM/huggingface connection with API token, model, and setting lengths/temperature...\n",
        "llm = HuggingFaceEndpoint(\n",
        "    repo_id=model_selection, max_length=128, temperature=0.5, token=os.environ[\"HUGGINGFACEHUB_API_TOKEN\"]\n",
        ")"
      ],
      "metadata": {
        "colab": {
          "base_uri": "https://localhost:8080/"
        },
        "id": "yGQpa3ozcC02",
        "outputId": "fc3c21c9-782f-45f8-96d3-786f9a646203"
      },
      "execution_count": 41,
      "outputs": [
        {
          "output_type": "stream",
          "name": "stderr",
          "text": [
            "WARNING:langchain_community.llms.huggingface_endpoint:WARNING! max_length is not default parameter.\n",
            "                    max_length was transferred to model_kwargs.\n",
            "                    Please make sure that max_length is what you intended.\n",
            "WARNING:langchain_community.llms.huggingface_endpoint:WARNING! token is not default parameter.\n",
            "                    token was transferred to model_kwargs.\n",
            "                    Please make sure that token is what you intended.\n"
          ]
        },
        {
          "output_type": "stream",
          "name": "stdout",
          "text": [
            "Token will not been saved to git credential helper. Pass `add_to_git_credential=True` if you want to set the git credential as well.\n",
            "Token is valid (permission: read).\n",
            "Your token has been saved to /root/.cache/huggingface/token\n",
            "Login successful\n"
          ]
        }
      ]
    },
    {
      "cell_type": "code",
      "source": [
        "#### setup quesiton / response /\n",
        "question = \"Do you know if Hants Williams work at Stony Brook University? \"\n",
        "template = \"\"\"Question: {question} Answer: Let's think step by step.\"\"\"\n",
        "prompt = PromptTemplate.from_template(template)\n",
        "\n",
        "llm_chain = LLMChain(prompt=prompt, llm=llm)\n",
        "print(llm_chain.run(question))"
      ],
      "metadata": {
        "colab": {
          "base_uri": "https://localhost:8080/"
        },
        "id": "g_ZHYMw4Z7Kd",
        "outputId": "ab3e16f1-d772-44e2-8027-02dd5fed153e"
      },
      "execution_count": 42,
      "outputs": [
        {
          "output_type": "stream",
          "name": "stdout",
          "text": [
            " First, we need to find out if Hants Williams is a real person. A simple internet search shows that Hants Williams is indeed a person, and he has been associated with various universities and research institutions. However, there is no clear indication that he has worked at Stony Brook University. It would be best to contact the university directly for confirmation. If you have more information or would like further assistance, please let me know.\n"
          ]
        }
      ]
    },
    {
      "cell_type": "code",
      "source": [
        "##### Rag\n",
        "from langchain_community.document_loaders import WebBaseLoader\n",
        "##### Get some new Data\n",
        "loader = WebBaseLoader(\"https://healthprofessions.stonybrookmedicine.edu/programs/ahi/faculty/hants_williams\")\n",
        "data = loader.load()\n",
        "print(data)\n"
      ],
      "metadata": {
        "colab": {
          "base_uri": "https://localhost:8080/"
        },
        "id": "idJ34ibeXKRS",
        "outputId": "0f397974-83a0-48a6-d52d-0aed5c83b720"
      },
      "execution_count": 43,
      "outputs": [
        {
          "output_type": "stream",
          "name": "stdout",
          "text": [
            "[Document(page_content='\\n\\n\\n\\n\\n\\n\\n\\n\\n\\n\\n\\n\\nHants Williams, PhD, RN | School of Health Professions\\n\\n\\n\\n\\n\\n\\n\\n\\n\\n\\n\\n\\n\\n\\n\\n\\n\\n\\n\\n\\n\\n\\n\\n\\n\\n\\n\\n\\n\\n\\n\\n\\n\\n\\n\\n\\n\\n\\n\\n      Skip to main content\\n    \\n\\n\\n\\n\\n\\n\\n\\n\\n\\n\\n\\n\\n\\n\\n\\n\\n\\n\\n\\n\\n\\n\\n\\n\\n\\n\\n\\n\\n\\n\\n\\n\\n\\n\\n\\n\\n\\n\\nHome\\n\\nContact Us\\n\\nGive\\n\\n\\n\\n\\n\\n\\n\\n\\n\\n\\n\\n\\n\\n\\n\\n\\nMaster of Science in Applied Health Informatics (MS/AHI) \\n\\n\\n\\n\\n\\n\\n\\n\\n\\n\\n\\n\\n\\n\\n\\n\\n\\n\\n\\n\\n\\n\\n\\n\\n          Home\\n          \\n\\n\\n\\n\\n\\n\\n\\n\\n\\n          Curriculum\\n          \\n\\n\\n\\n          Admissions\\n          \\n\\n\\n\\n          Tuition, Financial Aid & Housing\\n          \\n\\n\\n\\n          FAQs\\n          \\n\\n\\n\\n          Apply\\n          \\n\\n\\n\\n\\n\\n\\n\\n\\n\\n\\n          Faculty and Staff\\n          \\n\\n\\n\\n          Info Sessions\\n          \\n\\n\\n\\n          Projects\\n          \\n\\n\\n\\n          Alumni\\n          \\n\\n\\n\\n          Apply\\n          \\n\\n\\n\\n          Contact\\n          \\n\\n\\n\\n          Give\\n          \\n\\n\\n\\n\\n\\n\\n\\n\\n\\n          Give Now\\n          \\n\\n\\n\\n\\n\\n\\n\\n\\n\\n\\n\\n\\n\\n\\n\\n\\n\\n\\n\\n\\n\\n\\n\\n\\n\\n\\n\\n\\n\\n\\nHants Williams, PhD, RN\\n\\n\\n\\n \\n\\n\\n\\n\\n\\n\\n\\n\\n\\n\\n\\n\\n\\n\\n\\n\\n\\n\\nApplied Health Informatics\\nStony Brook University\\nPhone:\\xa0\\nEmail: hants.williams@stonybrook.edu\\n\\n\\n\\n\\n\\n\\xa0\\n\\xa0\\n\\xa0\\n\\xa0\\n\\xa0\\n\\xa0\\n\\xa0\\n\\xa0\\nDr. Hants Williams describes himself as a \"full-stack\" healthcare professional given his range of skills as a seasoned public health nurse, published researcher, data engineer, health tech founder and mentor. Dr. Williams thrives on working on some of the most challenging data problems facing hospital systems, payers, and digital health companies. His primary goal is to always make it about the patient by improving \\xa0the delivery of patient care and patient outcomes.\\nDr. Williams\\'s clinical passions include behavioral health and chronic disease management. His research has focused on behavioral change strategies for chronically ill populations. He pioneered one of the first remote mindfulness-based stress reduction programs that was tailored for populations in North Carolina living with SCD. His work has been published in peer-reviewed journals such as the Journal of Pain and Symptom Management and BMC Trials. He is a recipient of NIH grant funding, as well as venture capital for the commercialization of digital therapeutic technologies.\\nDr. Williams is active in the health tech startup space and helps growth-stage companies determine acceptability, feasibility, and efficacy of novel care pathways, digital therapeutics, software solutions, and other business innovations that can enhance care delivery and improve patient outcomes.\\nDr. Williams holds a BA in Behavioral Science and Psychology from San Jose State University, a BSN - Nursing from San Francisco State University, and a PhD in Nursing - Behavioral Science from Duke University. He completed his postdoctoral training at the University of Maryland, Baltimore.\\nCourses taught:\\nHHA 504: Cloud Computing for Healthcare\\nHHA 506: Research Design and Methodology for Health Informatics Professionals\\nHHA 507: Data Science for Healthcare: Python and R\\n\\n\\n\\n\\n\\n\\n\\n\\n\\n\\n\\n\\nAcademicCalendar\\nBrightspaceLogin\\nSOLAR Loginfor Students\\nCounseling andPsychological Services\\nDiversity atStony Brook University\\nStudent AccessibilitySupport Center\\nHealth SciencesLibrary\\nStony Brook Univ.Book Store\\nDirectory\\n\\n\\n\\n\\n\\n\\n\\n\\n\\n\\n\\n\\n\\n\\n\\nGive us a call\\n(631) 444-2252\\nStony Brook School of Health Professions\\n101 Nicolls Road\\nHealth Sciences Center, Level 2, Room 400\\nStony Brook, NY 11794-8200\\n\\n\\xa0\\n\\n\\nStony Brook University\\xa0 \\xa0 \\xa0 \\xa0Stony Brook Medicine\\xa0 \\xa0 \\xa0 \\xa0Long Island State Veterans Home\\nLegal/Disclaimer \\xa0 \\xa0 \\xa0 Privacy Policy\\xa0 \\xa0 \\xa0 \\xa0Notice of Privacy Practices \\xa0 \\xa0 \\xa0 \\xa0Report an Accessibility Barrier \\xa0 \\xa0 \\xa0 \\xa0Site Feedback\\n© Copyright 2023 Stony Brook Medicine\\n\\n\\n\\n\\n\\n\\n\\n\\n\\n\\n\\n\\n\\n\\n\\n\\n\\n\\n\\n\\n\\n\\n\\n\\n\\n\\n\\n\\n\\n\\n\\n\\n\\n\\n\\n\\n\\n\\n\\n\\n\\n\\n\\n\\n\\n\\n\\n\\n\\n\\n\\n\\n\\n\\n\\n\\n\\n\\n\\n\\n\\n\\n\\n\\n\\n\\n\\n\\n\\n\\n\\n\\n\\n\\n\\n\\n\\n\\n', metadata={'source': 'https://healthprofessions.stonybrookmedicine.edu/programs/ahi/faculty/hants_williams', 'title': 'Hants Williams, PhD, RN | School of Health Professions', 'description': '', 'language': 'en'})]\n"
          ]
        }
      ]
    },
    {
      "cell_type": "code",
      "source": [
        "##### Parse the data\n",
        "from langchain_community.document_loaders import TextLoader\n",
        "from langchain_community.embeddings.sentence_transformer import (\n",
        "    SentenceTransformerEmbeddings,\n",
        ")\n",
        "from langchain_community.vectorstores import Chroma\n",
        "from langchain_text_splitters import CharacterTextSplitter\n",
        "\n",
        "# split it into chunks\n",
        "text_splitter = CharacterTextSplitter(chunk_size=1000, chunk_overlap=0)\n",
        "docs = text_splitter.split_documents(data)\n"
      ],
      "metadata": {
        "colab": {
          "base_uri": "https://localhost:8080/"
        },
        "id": "c2pd5TPZXM7c",
        "outputId": "02513ec5-79a7-47b1-9a05-6a6dd572a047"
      },
      "execution_count": 44,
      "outputs": [
        {
          "output_type": "stream",
          "name": "stderr",
          "text": [
            "WARNING:langchain_text_splitters.base:Created a chunk of size 1842, which is longer than the specified 1000\n"
          ]
        }
      ]
    },
    {
      "cell_type": "code",
      "source": [
        "# create the open-source embedding function\n",
        "embedding_function = SentenceTransformerEmbeddings(model_name=\"all-MiniLM-L6-v2\")\n"
      ],
      "metadata": {
        "id": "f-3QvxOpXqJ5"
      },
      "execution_count": 45,
      "outputs": []
    },
    {
      "cell_type": "code",
      "source": [
        "# load it into Chroma\n",
        "db = Chroma.from_documents(docs, embedding_function)"
      ],
      "metadata": {
        "id": "wjkJ6PusXyzZ"
      },
      "execution_count": 46,
      "outputs": []
    },
    {
      "cell_type": "code",
      "source": [
        "from langchain import hub\n",
        "from langchain_core.output_parsers import StrOutputParser\n",
        "from langchain_core.runnables import RunnablePassthrough\n",
        "from langchain.chains import RetrievalQA\n",
        "\n",
        "retriever = db.as_retriever(search_type=\"mmr\", search_kwargs={'k': 4, 'fetch_k': 20})\n",
        "prompt = hub.pull(\"rlm/rag-prompt\")\n",
        "\n",
        "def format_docs(docs):\n",
        "    return \"\\n\\n\".join(doc.page_content for doc in docs)\n",
        "\n",
        "rag_chain = (\n",
        "    {\"context\": retriever | format_docs, \"question\": RunnablePassthrough()}\n",
        "    | prompt\n",
        "    | llm\n",
        ")"
      ],
      "metadata": {
        "id": "866wp8CcYYY7"
      },
      "execution_count": 47,
      "outputs": []
    },
    {
      "cell_type": "code",
      "source": [
        "## test the ragChain\n",
        "\n",
        "rag_chain.invoke(\"Do you know if Hants Williams work at Stony Brook University?\")\n"
      ],
      "metadata": {
        "colab": {
          "base_uri": "https://localhost:8080/",
          "height": 53
        },
        "id": "4gG4Yin5YsKz",
        "outputId": "bbcab5d2-a862-4da8-b090-66766c93d32c"
      },
      "execution_count": 48,
      "outputs": [
        {
          "output_type": "execute_result",
          "data": {
            "text/plain": [
              "'\\nYes, Hants Williams is a faculty member at Stony Brook University, specifically in the School of Health Professions and the Applied Health Informatics program.'"
            ],
            "application/vnd.google.colaboratory.intrinsic+json": {
              "type": "string"
            }
          },
          "metadata": {},
          "execution_count": 48
        }
      ]
    },
    {
      "cell_type": "code",
      "source": [],
      "metadata": {
        "id": "kllhQJAgZgA3"
      },
      "execution_count": null,
      "outputs": []
    }
  ]
}